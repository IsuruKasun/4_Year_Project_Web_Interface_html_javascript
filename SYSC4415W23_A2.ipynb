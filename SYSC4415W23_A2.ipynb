{
  "nbformat": 4,
  "nbformat_minor": 0,
  "metadata": {
    "colab": {
      "provenance": [],
      "include_colab_link": true
    },
    "kernelspec": {
      "name": "python3",
      "display_name": "Python 3"
    },
    "language_info": {
      "name": "python"
    },
    "gpuClass": "standard",
    "accelerator": "GPU"
  },
  "cells": [
    {
      "cell_type": "markdown",
      "metadata": {
        "id": "view-in-github",
        "colab_type": "text"
      },
      "source": [
        "<a href=\"https://colab.research.google.com/github/IsuruKasun/4_Year_Project_Web_Interface_html_javascript/blob/main/SYSC4415W23_A2.ipynb\" target=\"_parent\"><img src=\"https://colab.research.google.com/assets/colab-badge.svg\" alt=\"Open In Colab\"/></a>"
      ]
    },
    {
      "cell_type": "markdown",
      "source": [
        "# SYSC4415 - Assignment 2\n",
        "\n",
        "**TA: François Charih \\<francois@charih.ca\\>**\n",
        "\n",
        "**Deadline: March 19th, 2023 @ 11:59PM**\n",
        "\n",
        "## Learning objectives\n",
        "\n",
        "1. Fine-tune pre-trained CNN architectures for a custom image classification challenge.\n",
        "\n",
        "2. Evaluate the performance of machine learning models using different metrics (precision-recall curve, confusion matrices, *etc.*).\n",
        "\n",
        "3. Get hands-on experience with modern machine learning and plotting libraries.\n",
        "\n",
        "## Instructions\n",
        "\n",
        "1. Give yourself plenty of time to complete the assignment (it could take you up to 8-10 hours if you are unfamiliar with Python and machine learning libraries). The models should not take more than 1h to fine-tune (my full notebook runs from start to end in a little under 40 minutes. Coding will be the most time-consuming. ⚠️**Do not wait to the last minute.** ⚠️\n",
        "\n",
        "2. You must use the prescribed methods/functions/libraries mentioned, whenever specified. The functions you need are already imported for you in the appropriate sections. You can reorganize the imports and import the full packages instead of specific functions if you so desire. I imported the necessary functions for you so that they are ready to be invoked without have to specify the full path to the functions with the dot operator (i.e. so that you invoke `function()` instead of `package.module.function()`).\n",
        "\n",
        "3. Make sure to include comments for non-trivial code. It is okay to add some code cells, if you think it will give your code better readability/structure.\n",
        "\n",
        "4. If you are unsure about something, clearly state your assumptions and complete the question based off these assumptions.\n",
        "\n",
        "5. Be careful as you complete the assignment. There are several text-based questions to be answered in Markdown (text) cells. The questions are accompanied by the ❓ emoji. Your answers should be entered in the markdown cells with the 📝 emoji.\n",
        "\n",
        "6. Submit your Notebook as a `.ipynb` file that adopts this naming convention: *SYSC4415W23_A2_\\<First Name\\>_\\<Last Name\\>_\\<StudentID\\>.ipynb* on Brightspace. I should be able to run your code without errors.\n",
        "\n",
        "7. Make sure you enable a GPU accelerator (in Runtime > Change runtime type) starting at Part 4 and that your training code uses it. GPU resources are limited, so it is recommended not to use the accelerator for prior steps.\n",
        "\n",
        "8. All plots should be made with matplotlib and labeled properly (ie. include axis labels and legends).\n",
        "\n",
        "## Context\n",
        "\n",
        "It is 2030, and a new RNA virus named SARS-CoV-3 is wreaking havoc across the globe. Its death rate is estimated at 95%, making it one of the deadliest  respiratory viruses known to mankind. Fortunately, an Ottawa-based biotech company developed a nasally-delivered vaccine *Greenraza*™️ that can neutralize the virus in living patients. However, administrating the vaccine increases the risk of lung cancer by a whooping 60%. It is therefore vital that the drug be administered to infected patients only, not to patients infected with another respiratory virus such as the common cold or influenza. The virus cannot be detected through blood or breath analyses. It can only be detected by means of x-ray imaging.\n",
        "\n",
        "Having heard of your newly developed expertise in deep learning, you have been tasked by the Ottawa Hospital with the design of a machine learning model capable of distinguishing patients infected with SARS-CoV-3 from patients that have pneumonia and non-infected patients. Healthy patients can be discharged, while patients with pneumonia must be isolated, but without being given *Greenraza*™️."
      ],
      "metadata": {
        "id": "PGuAmMpysXXJ"
      }
    },
    {
      "cell_type": "markdown",
      "source": [
        "## Project initialization\n",
        "\n",
        "Run the cells below to set-up the notebook (ie. download the dataset) and install the required external libraries."
      ],
      "metadata": {
        "id": "c33I6cJzIn0O"
      }
    },
    {
      "cell_type": "code",
      "source": [
        "# RUN THIS (downloads the dataset)\n",
        "! rm -rf SYSC4415W23_A2_dataset SYSC4415W23_A2_dataset.zip\n",
        "! wget https://github.com/jrgreen7/SYSC4906/releases/download/Assignment2/SYSC4415W23_A2_dataset.zip && unzip SYSC4415W23_A2_dataset.zip"
      ],
      "metadata": {
        "id": "TEbQzpX8j7bQ"
      },
      "execution_count": null,
      "outputs": []
    },
    {
      "cell_type": "code",
      "source": [
        "# RUN THIS (installs external libraries)\n",
        "!pip install timm\n",
        "!pip install git+https://github.com/nottombrown/imagenet_stubs\n",
        "!pip install torchstat"
      ],
      "metadata": {
        "id": "NanqafBgkZFO"
      },
      "execution_count": null,
      "outputs": []
    },
    {
      "cell_type": "markdown",
      "source": [
        "## Part 1: Preparing the dataset\n",
        "\n",
        "The Ottawa Hospital has provided you with a dataset to develop your model. The dataset is available here. The dataset contains a folder containing a spreadsheet with metadata for each image in the dataset and a subfolder containing the 200x200 images (with random filenames)."
      ],
      "metadata": {
        "id": "q1XKrzDrs11o"
      }
    },
    {
      "cell_type": "code",
      "source": [
        "from pandas import read_csv\n",
        "from matplotlib.pyplot import bar, xlabel, ylabel, title"
      ],
      "metadata": {
        "id": "cLf1gprJKQ1v"
      },
      "execution_count": null,
      "outputs": []
    },
    {
      "cell_type": "markdown",
      "source": [
        "**Step 1:** Using pandas' `read_csv` function, load the dataframe containing the image metadata (`dataset_metadata.csv`)."
      ],
      "metadata": {
        "id": "QHTpQfihKSsY"
      }
    },
    {
      "cell_type": "code",
      "source": [
        "# Loads the image metadata into a pandas dataframe\n",
        "\n",
        "# YOUR CODE HERE\n",
        "df = read_csv('/content/SYSC4415W23_A2_dataset/dataset_metadata.csv')"
      ],
      "metadata": {
        "id": "1qhfruYusvHF"
      },
      "execution_count": null,
      "outputs": []
    },
    {
      "cell_type": "markdown",
      "source": [
        "**Step 2:** Use the `head` method to print the top five rows of the dataframe."
      ],
      "metadata": {
        "id": "btf3Q-VK_o1S"
      }
    },
    {
      "cell_type": "code",
      "source": [
        "# Prints the top five rows in the dataset\n",
        "\n",
        "# YOUR CODE HERE\n",
        "df.head()"
      ],
      "metadata": {
        "id": "SkWvyTpjn8pE",
        "colab": {
          "base_uri": "https://localhost:8080/",
          "height": 206
        },
        "outputId": "b51489c2-d442-4578-a577-c3c1134e368a"
      },
      "execution_count": null,
      "outputs": [
        {
          "output_type": "execute_result",
          "data": {
            "text/plain": [
              "          filename     split            xray_date  height  width   label\n",
              "0   272_normal.jpg  training  2030-11-18 06:50:42     200    200  normal\n",
              "1   788_normal.jpg  training  2030-06-20 21:32:45     200    200  normal\n",
              "2   622_normal.jpg  training  2030-07-12 06:56:19     200    200  normal\n",
              "3  1138_normal.jpg  training  2030-03-15 13:52:16     200    200  normal\n",
              "4  1568_normal.jpg  training  2030-12-22 22:09:18     200    200  normal"
            ],
            "text/html": [
              "\n",
              "  <div id=\"df-657d29d6-dd57-40ae-9168-c86b923a0b6c\">\n",
              "    <div class=\"colab-df-container\">\n",
              "      <div>\n",
              "<style scoped>\n",
              "    .dataframe tbody tr th:only-of-type {\n",
              "        vertical-align: middle;\n",
              "    }\n",
              "\n",
              "    .dataframe tbody tr th {\n",
              "        vertical-align: top;\n",
              "    }\n",
              "\n",
              "    .dataframe thead th {\n",
              "        text-align: right;\n",
              "    }\n",
              "</style>\n",
              "<table border=\"1\" class=\"dataframe\">\n",
              "  <thead>\n",
              "    <tr style=\"text-align: right;\">\n",
              "      <th></th>\n",
              "      <th>filename</th>\n",
              "      <th>split</th>\n",
              "      <th>xray_date</th>\n",
              "      <th>height</th>\n",
              "      <th>width</th>\n",
              "      <th>label</th>\n",
              "    </tr>\n",
              "  </thead>\n",
              "  <tbody>\n",
              "    <tr>\n",
              "      <th>0</th>\n",
              "      <td>272_normal.jpg</td>\n",
              "      <td>training</td>\n",
              "      <td>2030-11-18 06:50:42</td>\n",
              "      <td>200</td>\n",
              "      <td>200</td>\n",
              "      <td>normal</td>\n",
              "    </tr>\n",
              "    <tr>\n",
              "      <th>1</th>\n",
              "      <td>788_normal.jpg</td>\n",
              "      <td>training</td>\n",
              "      <td>2030-06-20 21:32:45</td>\n",
              "      <td>200</td>\n",
              "      <td>200</td>\n",
              "      <td>normal</td>\n",
              "    </tr>\n",
              "    <tr>\n",
              "      <th>2</th>\n",
              "      <td>622_normal.jpg</td>\n",
              "      <td>training</td>\n",
              "      <td>2030-07-12 06:56:19</td>\n",
              "      <td>200</td>\n",
              "      <td>200</td>\n",
              "      <td>normal</td>\n",
              "    </tr>\n",
              "    <tr>\n",
              "      <th>3</th>\n",
              "      <td>1138_normal.jpg</td>\n",
              "      <td>training</td>\n",
              "      <td>2030-03-15 13:52:16</td>\n",
              "      <td>200</td>\n",
              "      <td>200</td>\n",
              "      <td>normal</td>\n",
              "    </tr>\n",
              "    <tr>\n",
              "      <th>4</th>\n",
              "      <td>1568_normal.jpg</td>\n",
              "      <td>training</td>\n",
              "      <td>2030-12-22 22:09:18</td>\n",
              "      <td>200</td>\n",
              "      <td>200</td>\n",
              "      <td>normal</td>\n",
              "    </tr>\n",
              "  </tbody>\n",
              "</table>\n",
              "</div>\n",
              "      <button class=\"colab-df-convert\" onclick=\"convertToInteractive('df-657d29d6-dd57-40ae-9168-c86b923a0b6c')\"\n",
              "              title=\"Convert this dataframe to an interactive table.\"\n",
              "              style=\"display:none;\">\n",
              "        \n",
              "  <svg xmlns=\"http://www.w3.org/2000/svg\" height=\"24px\"viewBox=\"0 0 24 24\"\n",
              "       width=\"24px\">\n",
              "    <path d=\"M0 0h24v24H0V0z\" fill=\"none\"/>\n",
              "    <path d=\"M18.56 5.44l.94 2.06.94-2.06 2.06-.94-2.06-.94-.94-2.06-.94 2.06-2.06.94zm-11 1L8.5 8.5l.94-2.06 2.06-.94-2.06-.94L8.5 2.5l-.94 2.06-2.06.94zm10 10l.94 2.06.94-2.06 2.06-.94-2.06-.94-.94-2.06-.94 2.06-2.06.94z\"/><path d=\"M17.41 7.96l-1.37-1.37c-.4-.4-.92-.59-1.43-.59-.52 0-1.04.2-1.43.59L10.3 9.45l-7.72 7.72c-.78.78-.78 2.05 0 2.83L4 21.41c.39.39.9.59 1.41.59.51 0 1.02-.2 1.41-.59l7.78-7.78 2.81-2.81c.8-.78.8-2.07 0-2.86zM5.41 20L4 18.59l7.72-7.72 1.47 1.35L5.41 20z\"/>\n",
              "  </svg>\n",
              "      </button>\n",
              "      \n",
              "  <style>\n",
              "    .colab-df-container {\n",
              "      display:flex;\n",
              "      flex-wrap:wrap;\n",
              "      gap: 12px;\n",
              "    }\n",
              "\n",
              "    .colab-df-convert {\n",
              "      background-color: #E8F0FE;\n",
              "      border: none;\n",
              "      border-radius: 50%;\n",
              "      cursor: pointer;\n",
              "      display: none;\n",
              "      fill: #1967D2;\n",
              "      height: 32px;\n",
              "      padding: 0 0 0 0;\n",
              "      width: 32px;\n",
              "    }\n",
              "\n",
              "    .colab-df-convert:hover {\n",
              "      background-color: #E2EBFA;\n",
              "      box-shadow: 0px 1px 2px rgba(60, 64, 67, 0.3), 0px 1px 3px 1px rgba(60, 64, 67, 0.15);\n",
              "      fill: #174EA6;\n",
              "    }\n",
              "\n",
              "    [theme=dark] .colab-df-convert {\n",
              "      background-color: #3B4455;\n",
              "      fill: #D2E3FC;\n",
              "    }\n",
              "\n",
              "    [theme=dark] .colab-df-convert:hover {\n",
              "      background-color: #434B5C;\n",
              "      box-shadow: 0px 1px 3px 1px rgba(0, 0, 0, 0.15);\n",
              "      filter: drop-shadow(0px 1px 2px rgba(0, 0, 0, 0.3));\n",
              "      fill: #FFFFFF;\n",
              "    }\n",
              "  </style>\n",
              "\n",
              "      <script>\n",
              "        const buttonEl =\n",
              "          document.querySelector('#df-657d29d6-dd57-40ae-9168-c86b923a0b6c button.colab-df-convert');\n",
              "        buttonEl.style.display =\n",
              "          google.colab.kernel.accessAllowed ? 'block' : 'none';\n",
              "\n",
              "        async function convertToInteractive(key) {\n",
              "          const element = document.querySelector('#df-657d29d6-dd57-40ae-9168-c86b923a0b6c');\n",
              "          const dataTable =\n",
              "            await google.colab.kernel.invokeFunction('convertToInteractive',\n",
              "                                                     [key], {});\n",
              "          if (!dataTable) return;\n",
              "\n",
              "          const docLinkHtml = 'Like what you see? Visit the ' +\n",
              "            '<a target=\"_blank\" href=https://colab.research.google.com/notebooks/data_table.ipynb>data table notebook</a>'\n",
              "            + ' to learn more about interactive tables.';\n",
              "          element.innerHTML = '';\n",
              "          dataTable['output_type'] = 'display_data';\n",
              "          await google.colab.output.renderOutput(dataTable, element);\n",
              "          const docLink = document.createElement('div');\n",
              "          docLink.innerHTML = docLinkHtml;\n",
              "          element.appendChild(docLink);\n",
              "        }\n",
              "      </script>\n",
              "    </div>\n",
              "  </div>\n",
              "  "
            ]
          },
          "metadata": {},
          "execution_count": 8
        }
      ]
    },
    {
      "cell_type": "markdown",
      "source": [
        "**Step 3:** Using pandas' [query method](https://pandas.pydata.org/docs/user_guide/indexing.html#the-query-method) and the `len` methods on the selections, print the number of images in the training, validation and test sets."
      ],
      "metadata": {
        "id": "n-ZA-MdI_zzN"
      }
    },
    {
      "cell_type": "code",
      "source": [
        "# Prints the dimensions of the dataframe\n",
        "\n",
        "# YOUR CODE HERE\n",
        "print(\"Number of images in training set: \" + str(len(df.query('split == \"training\"'))))\n",
        "print(\"Number of images in validation set: \" + str(len(df.query('split == \"validation\"'))))\n",
        "print(\"Number of images in test set: \" + str(len(df.query('split == \"test\"'))))"
      ],
      "metadata": {
        "id": "ewWdw9Zvx5x6",
        "colab": {
          "base_uri": "https://localhost:8080/"
        },
        "outputId": "db77ce6d-c2d5-44cd-eae2-03fb77a2c482"
      },
      "execution_count": null,
      "outputs": [
        {
          "output_type": "stream",
          "name": "stdout",
          "text": [
            "Number of images in training set: 2222\n",
            "Number of images in validation set: 645\n",
            "Number of images in test set: 505\n"
          ]
        }
      ]
    },
    {
      "cell_type": "markdown",
      "source": [
        "**Step 4:** Using the `value_counts` method on the “label” column, provide the composition of the dataset in terms of the number of SARS-CoV-3 cases, pneumonia cases and healthy x-rays. In another cell, prepare a bar chart from that data using matplotlib's `bar` method. Note that the result of the `value_counts` methods is a series object whose property `index` is the label."
      ],
      "metadata": {
        "id": "D_cEMcdnwzpo"
      }
    },
    {
      "cell_type": "code",
      "source": [
        "# Generates a breakdown of the images' classes\n",
        "\n",
        "# YOUR CODE HERE\n",
        "vc = df.value_counts('label')\n",
        "print(vc)"
      ],
      "metadata": {
        "id": "XnNdC4_XxOV1",
        "colab": {
          "base_uri": "https://localhost:8080/"
        },
        "outputId": "59670600-5315-47d6-9471-499d3ea99ca8"
      },
      "execution_count": null,
      "outputs": [
        {
          "output_type": "stream",
          "name": "stdout",
          "text": [
            "label\n",
            "normal       1500\n",
            "pneumonia    1300\n",
            "sarscov3      572\n",
            "dtype: int64\n"
          ]
        }
      ]
    },
    {
      "cell_type": "code",
      "source": [
        "# Plots a bar chart\n",
        "\n",
        "# YOUR CODE HERE\n",
        "vc.plot.bar()"
      ],
      "metadata": {
        "id": "DgEUaXfujlR3",
        "colab": {
          "base_uri": "https://localhost:8080/",
          "height": 343
        },
        "outputId": "d65ffdf0-d4e7-42df-a665-9cc30f0b706e"
      },
      "execution_count": null,
      "outputs": [
        {
          "output_type": "execute_result",
          "data": {
            "text/plain": [
              "<Axes: xlabel='label'>"
            ]
          },
          "metadata": {},
          "execution_count": 11
        },
        {
          "output_type": "display_data",
          "data": {
            "text/plain": [
              "<Figure size 432x288 with 1 Axes>"
            ],
            "image/png": "[encoded data removed]"
          },
          "metadata": {
            "needs_background": "light"
          }
        }
      ]
    },
    {
      "cell_type": "markdown",
      "source": [
        "❓ ***Question: Is the data balanced or not? If not, specify why class imbalance makes classification more difficult, and suggest one method you could use to deal with the imbalanced data.***"
      ],
      "metadata": {
        "id": "7actPHfExeYB"
      }
    },
    {
      "cell_type": "markdown",
      "source": [
        "📝 YOUR ANSWER GOES HERE\n",
        "\n",
        "The data is imbalanced as there is not an equal number of examples for each class. This can result in bias and poor perfomance in classifying classes with fewer examples. In this problem, classifying sarscov3 would be harder. "
      ],
      "metadata": {
        "id": "6QR5HTn_m9P6"
      }
    },
    {
      "cell_type": "markdown",
      "source": [
        "## Part 2: Applying pre-trained CNN models to the data\n",
        "\n",
        "Researchers make pre-trained neural networks available to the community at large. There are many, many pre-trained CNNs available in online repositories that researchers can leverage for their own applications."
      ],
      "metadata": {
        "id": "2gGFYwdHBWvZ"
      }
    },
    {
      "cell_type": "code",
      "source": [
        "from torchvision.io import read_image\n",
        "from timm import create_model\n",
        "from matplotlib.pyplot import imread, imshow\n",
        "from imagenet_stubs.imagenet_2012_labels import label_to_name"
      ],
      "metadata": {
        "id": "vNx-cQJlKCi6"
      },
      "execution_count": null,
      "outputs": []
    },
    {
      "cell_type": "markdown",
      "source": [
        "**Step 1:** Display the image `SYSC4415W23_A2_dataset/training/sarscov3/100_sarscov3.jpg` from the test set. The matplotlib methods `imread` and `imshow` are useful. 😉"
      ],
      "metadata": {
        "id": "fxQ7F3K6KCvM"
      }
    },
    {
      "cell_type": "code",
      "source": [
        "# Display the image with matplotlib's imread/imshow\n",
        "\n",
        "# YOUR CODE HERE\n",
        "imshow(imread('/content/SYSC4415W23_A2_dataset/training/sarscov3/100_sarscov3.jpg'))"
      ],
      "metadata": {
        "id": "ckGQkYL6k41-",
        "colab": {
          "base_uri": "https://localhost:8080/",
          "height": 287
        },
        "outputId": "160bea37-a629-449a-ba11-04ccdeac4fb6"
      },
      "execution_count": null,
      "outputs": [
        {
          "output_type": "execute_result",
          "data": {
            "text/plain": [
              "<matplotlib.image.AxesImage at 0x7f6847c80970>"
            ]
          },
          "metadata": {},
          "execution_count": 13
        },
        {
          "output_type": "display_data",
          "data": {
            "text/plain": [
              "<Figure size 432x288 with 1 Axes>"
            ],
            "image/png": "[encoded data removed]"
          },
          "metadata": {
            "needs_background": "light"
          }
        }
      ]
    },
    {
      "cell_type": "markdown",
      "source": [
        "**Step 2:** Load the ImageNet-pretrained InceptionV3 (`inception_v3`) and ResNet50 (`resnet50`) models with `timm` (this was done in Anthony's CIFAR100 tutorial with PyTorch). Use them to predict the class of the image along with the probability (not the logit). The probability is the result of applying the softmax function to the logits.\n",
        "\n",
        "Of course, because the models were pretrained on ImageNet, it will not predict any of the classes that interest us.\n",
        "\n",
        "***Notes:**\n",
        "1. The `read_image` function can convert an image on disk to a tensor.\n",
        "\n",
        "2. The function `label_to_name` that I imported for you converts the index of an ImageNet class to its English name."
      ],
      "metadata": {
        "id": "42hsfWsyBDPr"
      }
    },
    {
      "cell_type": "code",
      "source": [
        "from matplotlib import image\n",
        "# Loads the image in a Tensor (the method read_image can load the image in a tensor), calls unsqueeze(0) on the tensor to add a dimension and convert its entries to floats using the .float() method\n",
        "\n",
        "# YOUR CODE HERE\n",
        "image_tens = read_image('/content/SYSC4415W23_A2_dataset/training/sarscov3/100_sarscov3.jpg').unsqueeze(0).float()\n",
        "print(image_tens.size())"
      ],
      "metadata": {
        "id": "yJ49xCUJl_ao",
        "colab": {
          "base_uri": "https://localhost:8080/"
        },
        "outputId": "e3b3162e-98e1-4af6-828d-a91aa72d9a04"
      },
      "execution_count": null,
      "outputs": [
        {
          "output_type": "stream",
          "name": "stdout",
          "text": [
            "torch.Size([1, 3, 200, 200])\n"
          ]
        }
      ]
    },
    {
      "cell_type": "code",
      "source": [
        "# Loads the InceptionV3 model predicted class along with its probability\n",
        "import torch # ADDED\n",
        "# YOUR CODE HERE\n",
        "imodel = create_model('inception_v3', pretrained=True)\n",
        "\n",
        "with torch.no_grad():\n",
        "    out = imodel(image_tens)\n",
        "\n",
        "probabilities = torch.nn.functional.softmax(out[0], dim=0)\n",
        "\n",
        "top_prob, top_catid = torch.topk(probabilities, 1)\n",
        "\n",
        "print('Predicted class: ' + label_to_name(top_catid[0].item()))\n",
        "print('Probability: ' + str(top_prob[0].item()))"
      ],
      "metadata": {
        "id": "Qy3maVQ9CJag",
        "colab": {
          "base_uri": "https://localhost:8080/"
        },
        "outputId": "5954b4c1-fdae-48c0-98c6-76349bb251c4"
      },
      "execution_count": null,
      "outputs": [
        {
          "output_type": "stream",
          "name": "stderr",
          "text": [
            "Downloading: \"https://download.pytorch.org/models/inception_v3_google-1a9a5a14.pth\" to /root/.cache/torch/hub/checkpoints/inception_v3_google-1a9a5a14.pth\n"
          ]
        },
        {
          "output_type": "stream",
          "name": "stdout",
          "text": [
            "Predicted class: lighter, light, igniter, ignitor\n",
            "Probability: 0.001745817018672824\n"
          ]
        }
      ]
    },
    {
      "cell_type": "code",
      "source": [
        "# Loads the ResNet50 model predicted class along with its probability\n",
        "\n",
        "# YOUR CODE HERE\n",
        "rmodel = create_model('resnet50', pretrained=True)\n",
        "\n",
        "with torch.no_grad():\n",
        "    out = rmodel(image_tens)\n",
        "\n",
        "probabilities = torch.nn.functional.softmax(out[0], dim=0)\n",
        "\n",
        "top_prob, top_catid = torch.topk(probabilities, 1)\n",
        "\n",
        "print('Predicted class: ' + label_to_name(top_catid[0].item()))\n",
        "print('Probability: ' + str(top_prob[0].item()))"
      ],
      "metadata": {
        "id": "BP_or0WhEhyH",
        "colab": {
          "base_uri": "https://localhost:8080/"
        },
        "outputId": "9b418079-cc2a-45ec-8aa1-9502cbd73314"
      },
      "execution_count": null,
      "outputs": [
        {
          "output_type": "stream",
          "name": "stderr",
          "text": [
            "Downloading: \"https://github.com/rwightman/pytorch-image-models/releases/download/v0.1-rsb-weights/resnet50_a1_0-14fe96d1.pth\" to /root/.cache/torch/hub/checkpoints/resnet50_a1_0-14fe96d1.pth\n"
          ]
        },
        {
          "output_type": "stream",
          "name": "stdout",
          "text": [
            "Predicted class: nail\n",
            "Probability: 0.004312699194997549\n"
          ]
        }
      ]
    },
    {
      "cell_type": "markdown",
      "source": [
        "❓ ***Question: What classes are predicted for the two models? Are the models confident? Is it a good thing?***"
      ],
      "metadata": {
        "id": "IBxaFdfdwnpU"
      }
    },
    {
      "cell_type": "markdown",
      "source": [
        "📝 YOUR ANSWERS GO HERE\n",
        "\n",
        "For the InceptionV3 model, it predicts the class: 'lighter, light, igniter, ignitor' with a probability of 0.00174 or 0.174%. \n",
        "\n",
        "The ResNet50 model predicts the class 'nail' with a probability of 0.00431 or 0.431%.\n",
        "\n",
        "Both models are not confident in their prediction given by their probability which is a good thing since the image is neither of the two classes and has no correlation to being either of them."
      ],
      "metadata": {
        "id": "hjw-R-FdxlFh"
      }
    },
    {
      "cell_type": "markdown",
      "source": [
        "## Part 3: Instantiating the dataloaders to perform fine tuning\n",
        "When working with large image datasets with PyTorch, people often implement a DataLoader to help manage how images are loaded during training. The dataloader can be combined with methods that implement data augmentation by modifying the images with transforms (eg. scaling, rotation, reflection, cropping, etc.). For the most common applications, there are existing data loaders that are perfectly suitable and that users can use instead of defining their own.\n"
      ],
      "metadata": {
        "id": "soeLJWebR8Oy"
      }
    },
    {
      "cell_type": "code",
      "source": [
        "from torch.utils.data import DataLoader\n",
        "from torchvision.datasets import ImageFolder\n",
        "from torchvision import datasets, transforms"
      ],
      "metadata": {
        "id": "NZROCPrvJ8sb"
      },
      "execution_count": null,
      "outputs": []
    },
    {
      "cell_type": "markdown",
      "source": [
        "**Step 1:** Using the `ImageFolder` strategy to build a dataloader with a batch size of 128 for training. ([This tutorial](https://pytorch.org/tutorials/beginner/data_loading_tutorial.html#afterword-torchvision) is most helpful.)\n",
        "\n",
        "You will also want your dataloader for your training set to apply the following data augmentation transforms (documentation available [here](https://pytorch.org/vision/stable/transforms.html)):\n",
        "\n",
        "1. Random rotation between -10 and 10 deg\n",
        "2. Random horizontal flip with 40% probability"
      ],
      "metadata": {
        "id": "U0yxnCVsKiIL"
      }
    },
    {
      "cell_type": "code",
      "source": [
        "# Creates the dataset and dataloader that will be used for training\n",
        "\n",
        "# YOUR CODE HERE\n",
        "\n",
        "batch_size = 128\n",
        "\n",
        "data_transform = transforms.Compose([transforms.RandomRotation(10), transforms.RandomHorizontalFlip(0.4), transforms.ToTensor()])\n",
        "\n",
        "train_ds = ImageFolder(root='/content/SYSC4415W23_A2_dataset/training', transform=data_transform)\n",
        "\n",
        "train_dl = DataLoader(train_ds, batch_size=batch_size, shuffle=True)"
      ],
      "metadata": {
        "id": "Acm52Rn_ayUP"
      },
      "execution_count": null,
      "outputs": []
    },
    {
      "cell_type": "markdown",
      "source": [
        "**Step 2**: Create the dataloaders you will be using for validation and testing. The transform should only convert the images to a tensor. You should not specify a batch size for the test set dataloader."
      ],
      "metadata": {
        "id": "fj5c1hYV8Oxi"
      }
    },
    {
      "cell_type": "code",
      "source": [
        "# Creates the dataloader that will be used for validation\n",
        "\n",
        "# YOUR CODE HERE\n",
        "val_ds = ImageFolder(root='/content/SYSC4415W23_A2_dataset/validation', transform=transforms.ToTensor())\n",
        "\n",
        "val_dl = DataLoader(val_ds, batch_size=batch_size)"
      ],
      "metadata": {
        "id": "DmGqrtFN6p7e"
      },
      "execution_count": null,
      "outputs": []
    },
    {
      "cell_type": "code",
      "source": [
        "# Creates the dataloader that will be used testing\n",
        "\n",
        "# YOUR CODE HERE\n",
        "test_ds = ImageFolder(root='/content/SYSC4415W23_A2_dataset/test', transform=transforms.ToTensor())\n",
        "\n",
        "test_dl = DataLoader(test_ds)"
      ],
      "metadata": {
        "id": "XX-Gkx8iK7XX"
      },
      "execution_count": null,
      "outputs": []
    },
    {
      "cell_type": "markdown",
      "source": [
        "## Part 4: Fine-tuning existing CNN architectures\n",
        "\n",
        "The Inception V3 and ResNet50 models you loaded above were trained on ImageNet which is not a medical dataset. In order to leverage these models for our purposes, we need to modify the architecture so that the final classification layer contains an appropriate number of classes and retune the model weights so that the models become suitable for the classification of our x-rays.\n"
      ],
      "metadata": {
        "id": "Xt5LRQ1B8i39"
      }
    },
    {
      "cell_type": "code",
      "source": [
        "from timm import create_model\n",
        "import time\n",
        "from matplotlib.pyplot import subplots\n",
        "from torch.optim import AdamW\n",
        "from torch.nn import CrossEntropyLoss\n",
        "from torch import no_grad, Tensor"
      ],
      "metadata": {
        "id": "LN6ZeKE8Lp-p"
      },
      "execution_count": null,
      "outputs": []
    },
    {
      "cell_type": "markdown",
      "source": [
        "**Step 1:** Using `create_model` from the `timm` package, Load the InceptionV3 and ResNet50 models, replacing the final layer with one appropriate for our purpose (recall that we want to classify x-rays of healthy, pneumonia and SARS-CoV-3 patients). Note that the timm library can assist in replacing the final layer (see [Anthony's tutorial](https://github.com/jrgreen7/SYSC4906/blob/master/W2023/Tutorials/CIFAR100_tutorial_WIP.ipynb)). These are your modified models."
      ],
      "metadata": {
        "id": "iTGT-CC5Los5"
      }
    },
    {
      "cell_type": "code",
      "source": [
        "# Loads the InceptionV3 model and replaces the final classification layer with a new dense layer\n",
        "\n",
        "# YOUR CODE HERE\n",
        "imodel = create_model('inception_v3', num_classes = 3, pretrained=True)"
      ],
      "metadata": {
        "id": "FyUSzYSk89Hk"
      },
      "execution_count": null,
      "outputs": []
    },
    {
      "cell_type": "code",
      "source": [
        "# Loads the ResNet50 model and replaces the final classification layer with a new dense layer\n",
        "\n",
        "# YOUR CODE HERE\n",
        "rmodel = create_model('resnet50', num_classes = 3, pretrained=True)"
      ],
      "metadata": {
        "id": "X0nCkWigU0dN"
      },
      "execution_count": null,
      "outputs": []
    },
    {
      "cell_type": "markdown",
      "source": [
        "**Step 2:** In a tutorial with Anthony, you have seen that you can convert a base learning rate to an effective learning rate based on the batch size you have selected using the following heuristic:\n",
        "\n",
        "$$\\eta_{eff} = \\frac{B\\eta_{base}}{256}$$\n",
        "\n",
        "where $\\eta$ is the learning rate and $B$ is the batch size.\n",
        "\n",
        "Train the final layer modified InceptionV3 and ResNet50 models on your training set. Use the **base** learning rate $\\eta_{base}$ of 0.0005.\n",
        "\n",
        "Use the following settings:\n",
        "\n",
        "**Epochs:** 25\n",
        "\n",
        "**Optimizer:** AdamW\n",
        "\n",
        "**Loss function:** Cross-entropy (it is not required here, but note that using the weight parameter here could help deal with class imbalance)\n",
        "\n",
        "Implement the training loop yourself. Do not use a package that automates the process. Anthony has demonstrated how to do this and much can be taken from [his example](https://github.com/jrgreen7/SYSC4906/blob/master/W2023/Tutorials/CIFAR100_tutorial_WIP.ipynb).\n",
        "\n",
        "❗**Important: Make sure you are using a colab gpu and to store the mean training and validation performance/loss at each epoch as you will be plotting them in the next steps.**"
      ],
      "metadata": {
        "id": "fnPggZay-S_R"
      }
    },
    {
      "cell_type": "code",
      "source": [
        "# Moves the modified inceptionV3 model to GPU\n",
        "\n",
        "# YOUR CODE HERE\n",
        "imodel.cuda()"
      ],
      "metadata": {
        "id": "Xpt117nYLyPe"
      },
      "execution_count": null,
      "outputs": []
    },
    {
      "cell_type": "code",
      "source": [
        "# Instantiates the optimizer for the modified InceptionV3 model using the specified effective learning rate\n",
        "\n",
        "# YOUR CODE HERE\n",
        "base_rate = 5e-4\n",
        "learning_rate = base_rate * batch_size / 256\n",
        "epochs = 25\n",
        "\n",
        "opt = AdamW(imodel.parameters(), lr=learning_rate)"
      ],
      "metadata": {
        "id": "xPG5MGPIMk4x"
      },
      "execution_count": null,
      "outputs": []
    },
    {
      "cell_type": "code",
      "source": [
        "# Sets up the loss function for the modified InceptionV3 model\n",
        "\n",
        "# YOUR CODE HERE\n",
        "loss_function = CrossEntropyLoss()"
      ],
      "metadata": {
        "id": "EfcMH2x-Mpjh"
      },
      "execution_count": null,
      "outputs": []
    },
    {
      "cell_type": "code",
      "source": [
        "# Fine-tunes the weights in the final layer the modified InceptionV3 model (main learning loop)\n",
        "\n",
        "# YOUR CODE HERE\n",
        "\n",
        "imodel_tl = []\n",
        "imodel_vl = []\n",
        "\n",
        "for epoch in range(epochs):\n",
        "    start_time = time.time()\n",
        "    train_losses = []\n",
        "    imodel.train()\n",
        "    for batch in train_dl:\n",
        "        batch_imgs, batch_labels = batch\n",
        "        batch_imgs = batch_imgs.cuda()\n",
        "        batch_labels = batch_labels.cuda()\n",
        "\n",
        "        logits = imodel(batch_imgs)\n",
        "        loss = loss_function(logits, batch_labels)\n",
        "        loss.backward()\n",
        "\n",
        "        opt.step()\n",
        "        opt.zero_grad()\n",
        "        train_losses.append(loss.item())\n",
        "\n",
        "    val_losses = []\n",
        "    imodel.eval()\n",
        "    with torch.no_grad():\n",
        "        for batch in val_dl:\n",
        "            batch_imgs, batch_labels = batch\n",
        "            batch_imgs = batch_imgs.cuda()\n",
        "            batch_labels = batch_labels.cuda()\n",
        "\n",
        "            logits = imodel(batch_imgs) \n",
        "            loss = loss_function(logits, batch_labels)\n",
        "            val_losses.append(loss.item())\n",
        "\n",
        "    train_time = time.time() - start_time\n",
        "    epoch_train_loss = torch.Tensor(train_losses).mean().item()\n",
        "    imodel_tl.append(epoch_train_loss)\n",
        "    epoch_val_loss = torch.Tensor(val_losses).mean().item()\n",
        "    imodel_vl.append(epoch_val_loss)\n",
        "    print(f'Epoch: {epoch}  Train Loss: {epoch_train_loss:8.6f}   Val Loss: {epoch_val_loss:8.6f}  Time: {train_time:6.4f}')\n"
      ],
      "metadata": {
        "id": "D8tIT-9M-WkC"
      },
      "execution_count": null,
      "outputs": []
    },
    {
      "cell_type": "code",
      "source": [
        "# Moves the modified ResNet50 model to GPU\n",
        "\n",
        "# YOUR CODE HERE\n",
        "rmodel.cuda()"
      ],
      "metadata": {
        "id": "O4OZyXmHxkFn"
      },
      "execution_count": null,
      "outputs": []
    },
    {
      "cell_type": "code",
      "source": [
        "# Instantiates the optimizer for the modified ResNet50 model\n",
        "\n",
        "# YOUR CODE HERE\n",
        "base_rate = 5e-4\n",
        "learning_rate = base_rate * batch_size / 256\n",
        "epochs = 25\n",
        "\n",
        "opt2 = AdamW(rmodel.parameters(), lr=learning_rate)"
      ],
      "metadata": {
        "id": "Fz_V6au6RbV3"
      },
      "execution_count": null,
      "outputs": []
    },
    {
      "cell_type": "code",
      "source": [
        "# Sets up the loss function for the modified ResNet50 model\n",
        "\n",
        "# YOUR CODE HERE\n",
        "loss_function2 = CrossEntropyLoss()"
      ],
      "metadata": {
        "id": "W3iE55k-RbV5"
      },
      "execution_count": null,
      "outputs": []
    },
    {
      "cell_type": "code",
      "source": [
        "# Fine-tunes the weights in the final layer the modified ResNet50 model (main learning loop)\n",
        "\n",
        "# YOUR CODE HERE\n",
        "rmodel_tl = []\n",
        "rmodel_vl = []\n",
        "\n",
        "for epoch in range(epochs):\n",
        "    start_time = time.time()\n",
        "    train_losses = []\n",
        "    rmodel.train()\n",
        "    for batch in train_dl:\n",
        "        batch_imgs, batch_labels = batch\n",
        "        batch_imgs = batch_imgs.cuda()\n",
        "        batch_labels = batch_labels.cuda()\n",
        "\n",
        "        logits = rmodel(batch_imgs)\n",
        "        loss = loss_function2(logits, batch_labels)\n",
        "        loss.backward()\n",
        "\n",
        "        opt2.step()\n",
        "        opt2.zero_grad()\n",
        "        train_losses.append(loss.item())\n",
        "\n",
        "    val_losses = []\n",
        "    rmodel.eval()\n",
        "    with torch.no_grad():\n",
        "        for batch in val_dl:\n",
        "            batch_imgs, batch_labels = batch\n",
        "            batch_imgs = batch_imgs.cuda()\n",
        "            batch_labels = batch_labels.cuda()\n",
        "\n",
        "            logits = rmodel(batch_imgs) \n",
        "            loss = loss_function2(logits, batch_labels)\n",
        "            val_losses.append(loss.item())\n",
        "\n",
        "    train_time = time.time() - start_time\n",
        "    epoch_train_loss = torch.Tensor(train_losses).mean().item()\n",
        "    rmodel_tl.append(epoch_train_loss)\n",
        "    epoch_val_loss = torch.Tensor(val_losses).mean().item()\n",
        "    rmodel_vl.append(epoch_val_loss)\n",
        "    print(f'Epoch: {epoch}  Train Loss: {epoch_train_loss:8.6f}   Val Loss: {epoch_val_loss:8.6f}  Time: {train_time:6.4f}')\n"
      ],
      "metadata": {
        "id": "HOecqyEUFpnH"
      },
      "execution_count": null,
      "outputs": []
    },
    {
      "cell_type": "code",
      "source": [
        "from google.colab import drive\n",
        "drive.mount('/content/drive')\n",
        "\n",
        "torch.save(imodel.state_dict(), '/content/drive/MyDrive/imodel')\n",
        "torch.save(rmodel.state_dict(), '/content/drive/MyDrive/rmodel')"
      ],
      "metadata": {
        "id": "nunuXW_o0FeC",
        "colab": {
          "base_uri": "https://localhost:8080/"
        },
        "outputId": "3d5c53c8-7585-4ae4-a1df-f3427e030cb6"
      },
      "execution_count": null,
      "outputs": [
        {
          "output_type": "stream",
          "name": "stdout",
          "text": [
            "Mounted at /content/drive\n"
          ]
        }
      ]
    },
    {
      "cell_type": "markdown",
      "source": [
        "**Step 3:** In different labeled subplots, display the learning curves for each model. Each subplot should display loss on the training set and the validation set (*i.e.* 2 curves per subplot). Use matplotlib."
      ],
      "metadata": {
        "id": "hWdTW9APDrpS"
      }
    },
    {
      "cell_type": "code",
      "source": [
        "# Displays the learning curves (loss) for both models in two separate subplots\n",
        "\n",
        "# YOUR CODE HERE\n",
        "x_axis = list(range(0, 25))\n",
        "fig, (ax1, ax2) = subplots(1, 2)\n",
        "ax1.plot(x_axis, imodel_tl, x_axis, imodel_vl)\n",
        "ax1.set_title('InceptionV3 Loss Curve')\n",
        "ax2.plot(x_axis, rmodel_tl, x_axis, rmodel_vl)\n",
        "ax2.set_title('ResNet50 Loss Curve')"
      ],
      "metadata": {
        "id": "l-uQC4sIX6-b",
        "colab": {
          "base_uri": "https://localhost:8080/",
          "height": 299
        },
        "outputId": "2231d8df-8736-4b8c-fa06-00b8b420611c"
      },
      "execution_count": null,
      "outputs": [
        {
          "output_type": "execute_result",
          "data": {
            "text/plain": [
              "Text(0.5, 1.0, 'ResNet50 Loss Curve')"
            ]
          },
          "metadata": {},
          "execution_count": 34
        },
        {
          "output_type": "display_data",
          "data": {
            "text/plain": [
              "<Figure size 432x288 with 2 Axes>"
            ],
            "image/png": "[encoded data removed]"
          },
          "metadata": {
            "needs_background": "light"
          }
        }
      ]
    },
    {
      "cell_type": "markdown",
      "source": [
        "❓ ***Question: Comment on your learning curves. What do they tell you?***"
      ],
      "metadata": {
        "id": "EvoZe_IGQJ__"
      }
    },
    {
      "cell_type": "markdown",
      "source": [
        "📝 YOUR ANSWER GOES HERE\n",
        "\n",
        "The learning curves indicate that the model is able to optimize itself quite well as the loss in the training curve decreases exponentially approaching 0. The validation curves also indicate the model is able to generalize although some indicate of overfitting is present as the validation curves can be seen to spike at certain epochs. Overall, the validation curves approach 0 which indicates a good model. \n",
        "\n",
        "The curves also indicate the InceptionV3 optimizing faster than ResNet50."
      ],
      "metadata": {
        "id": "UTgGmtFzQVu_"
      }
    },
    {
      "cell_type": "markdown",
      "source": [
        "## Part 5: Performance evaluation on a test set\n",
        "\n",
        "Of course, estimating the performance of your model on unseen data is a key step in machine learning methodology. Here, you will summarize model performance for your InceptionV3 model and ResNet50 model on the test set."
      ],
      "metadata": {
        "id": "GBAcg-ezIKZG"
      }
    },
    {
      "cell_type": "code",
      "source": [
        "from sklearn.metrics import confusion_matrix\n",
        "from sklearn.metrics import PrecisionRecallDisplay\n",
        "from torch import no_grad"
      ],
      "metadata": {
        "id": "qfL6yr-E32SY"
      },
      "execution_count": null,
      "outputs": []
    },
    {
      "cell_type": "markdown",
      "source": [
        "**Step 1:** Iterate through the images in the test set using the test dataloader to make predictions for the test set images and retrieve their actual label (its index). Note that this is done in a way similar to the validation step in the training loop.\n",
        "\n",
        "Append the predicted class index to a list, the actual labels to another and the probability of the SARS-CoV-3 class to another list.\n",
        "\n",
        "Do this for both fine-tuned models.\n",
        "\n",
        "Note that the indices map to the classes as follows:\n",
        "\n",
        "0: normal\n",
        "\n",
        "1: pneumonia\n",
        "\n",
        "2: sarscov3"
      ],
      "metadata": {
        "id": "yfskXdis0a8t"
      }
    },
    {
      "cell_type": "code",
      "source": [
        "# Creates a list of predictions, a list of actual labels and a list of probabilities of the SARS-CoV-3 class for the fine-tuned InceptionV3 model applied to the test set\n",
        "\n",
        "# YOUR CODE HERE\n",
        "\n",
        "predicted = []\n",
        "actual = []\n",
        "probability = []\n",
        "\n",
        "with torch.no_grad():\n",
        "    for img in test_dl:\n",
        "        img_img, img_label = img\n",
        "        actual.append(img_label.item())\n",
        "        img_img = img_img.cuda()\n",
        "        img_label = img_label.cuda()\n",
        "\n",
        "        logits = imodel(img_img)\n",
        "        probabilities = torch.nn.functional.softmax(logits[0], dim=0)\n",
        "\n",
        "        top_prob, top_catid = torch.topk(probabilities, 1)\n",
        "        predicted.append(top_catid.item())\n",
        "        probability.append(top_prob.item())"
      ],
      "metadata": {
        "id": "euMGErLf0i_1"
      },
      "execution_count": null,
      "outputs": []
    },
    {
      "cell_type": "code",
      "source": [
        "print(actual)\n",
        "print(predicted)\n",
        "print(probability)"
      ],
      "metadata": {
        "colab": {
          "base_uri": "https://localhost:8080/"
        },
        "outputId": "07db0c71-e972-4719-8115-240f2aaf9d8d",
        "id": "YJpGADymPZOi"
      },
      "execution_count": null,
      "outputs": [
        {
          "output_type": "stream",
          "name": "stdout",
          "text": [
            "[0, 0, 0, 0, 0, 0, 0, 0, 0, 0, 0, 0, 0, 0, 0, 0, 0, 0, 0, 0, 0, 0, 0, 0, 0, 0, 0, 0, 0, 0, 0, 0, 0, 0, 0, 0, 0, 0, 0, 0, 0, 0, 0, 0, 0, 0, 0, 0, 0, 0, 0, 0, 0, 0, 0, 0, 0, 0, 0, 0, 0, 0, 0, 0, 0, 0, 0, 0, 0, 0, 0, 0, 0, 0, 0, 0, 0, 0, 0, 0, 0, 0, 0, 0, 0, 0, 0, 0, 0, 0, 0, 0, 0, 0, 0, 0, 0, 0, 0, 0, 0, 0, 0, 0, 0, 0, 0, 0, 0, 0, 0, 0, 0, 0, 0, 0, 0, 0, 0, 0, 0, 0, 0, 0, 0, 0, 0, 0, 0, 0, 0, 0, 0, 0, 0, 0, 0, 0, 0, 0, 0, 0, 0, 0, 0, 0, 0, 0, 0, 0, 0, 0, 0, 0, 0, 0, 0, 0, 0, 0, 0, 0, 0, 0, 0, 0, 0, 0, 0, 0, 0, 0, 0, 0, 0, 0, 0, 0, 0, 0, 0, 0, 0, 0, 0, 0, 0, 0, 0, 0, 0, 0, 0, 0, 0, 0, 0, 0, 0, 0, 0, 0, 0, 0, 0, 0, 0, 0, 0, 0, 0, 0, 0, 0, 0, 0, 0, 0, 0, 0, 0, 0, 0, 0, 0, 0, 0, 0, 0, 0, 0, 0, 0, 1, 1, 1, 1, 1, 1, 1, 1, 1, 1, 1, 1, 1, 1, 1, 1, 1, 1, 1, 1, 1, 1, 1, 1, 1, 1, 1, 1, 1, 1, 1, 1, 1, 1, 1, 1, 1, 1, 1, 1, 1, 1, 1, 1, 1, 1, 1, 1, 1, 1, 1, 1, 1, 1, 1, 1, 1, 1, 1, 1, 1, 1, 1, 1, 1, 1, 1, 1, 1, 1, 1, 1, 1, 1, 1, 1, 1, 1, 1, 1, 1, 1, 1, 1, 1, 1, 1, 1, 1, 1, 1, 1, 1, 1, 1, 1, 1, 1, 1, 1, 1, 1, 1, 1, 1, 1, 1, 1, 1, 1, 1, 1, 1, 1, 1, 1, 1, 1, 1, 1, 1, 1, 1, 1, 1, 1, 1, 1, 1, 1, 1, 1, 1, 1, 1, 1, 1, 1, 1, 1, 1, 1, 1, 1, 1, 1, 1, 1, 1, 1, 1, 1, 1, 1, 1, 1, 1, 1, 1, 1, 1, 1, 1, 1, 1, 1, 1, 1, 1, 1, 1, 1, 1, 1, 1, 1, 1, 1, 1, 1, 1, 1, 1, 1, 1, 1, 1, 1, 1, 1, 1, 1, 1, 1, 1, 1, 1, 1, 1, 1, 2, 2, 2, 2, 2, 2, 2, 2, 2, 2, 2, 2, 2, 2, 2, 2, 2, 2, 2, 2, 2, 2, 2, 2, 2, 2, 2, 2, 2, 2, 2, 2, 2, 2, 2, 2, 2, 2, 2, 2, 2, 2, 2, 2, 2, 2, 2, 2, 2, 2, 2, 2, 2, 2, 2, 2, 2, 2, 2, 2, 2, 2, 2, 2, 2, 2, 2, 2, 2, 2, 2, 2]\n",
            "[0, 0, 0, 0, 0, 0, 0, 0, 0, 0, 0, 0, 0, 0, 0, 0, 0, 0, 0, 0, 0, 0, 0, 0, 0, 0, 0, 0, 0, 0, 0, 0, 0, 0, 0, 0, 0, 0, 0, 0, 0, 0, 0, 0, 0, 0, 0, 0, 0, 0, 0, 0, 0, 0, 0, 0, 0, 0, 0, 0, 0, 0, 0, 0, 0, 0, 0, 0, 0, 0, 1, 0, 0, 0, 0, 0, 0, 0, 0, 0, 0, 0, 0, 0, 0, 0, 0, 0, 0, 0, 0, 0, 0, 0, 0, 0, 0, 0, 0, 0, 0, 0, 0, 0, 0, 0, 0, 0, 0, 0, 0, 0, 0, 0, 0, 0, 0, 0, 0, 0, 0, 0, 0, 0, 0, 0, 0, 0, 0, 0, 0, 0, 0, 0, 0, 0, 0, 0, 0, 0, 0, 0, 0, 0, 0, 0, 0, 0, 0, 0, 0, 0, 0, 0, 0, 0, 0, 0, 0, 0, 0, 0, 0, 0, 0, 0, 0, 0, 0, 0, 0, 0, 0, 0, 0, 0, 0, 0, 0, 0, 0, 0, 0, 1, 1, 0, 0, 1, 0, 0, 0, 0, 0, 0, 0, 0, 0, 0, 1, 0, 0, 0, 0, 0, 1, 0, 0, 0, 0, 0, 0, 0, 0, 0, 0, 0, 0, 0, 0, 0, 0, 0, 0, 0, 0, 0, 0, 0, 0, 0, 0, 0, 0, 1, 1, 1, 1, 1, 1, 1, 1, 1, 1, 1, 1, 1, 1, 1, 1, 1, 1, 1, 1, 1, 1, 1, 1, 1, 1, 1, 0, 1, 1, 1, 1, 1, 1, 1, 1, 1, 1, 1, 1, 1, 1, 1, 1, 1, 1, 0, 1, 1, 1, 1, 1, 1, 1, 1, 1, 1, 1, 1, 1, 1, 1, 1, 1, 1, 1, 1, 1, 1, 1, 1, 1, 1, 1, 1, 1, 1, 1, 1, 1, 1, 1, 1, 1, 1, 1, 1, 1, 1, 1, 1, 1, 1, 0, 0, 1, 1, 1, 1, 1, 1, 0, 1, 1, 1, 1, 1, 1, 1, 1, 1, 1, 1, 1, 1, 1, 1, 1, 1, 1, 1, 1, 1, 1, 1, 1, 1, 1, 1, 1, 1, 1, 1, 1, 1, 1, 1, 1, 1, 1, 0, 1, 1, 1, 1, 1, 1, 1, 1, 1, 1, 1, 1, 1, 1, 1, 1, 1, 1, 1, 1, 1, 1, 1, 1, 1, 1, 1, 1, 1, 1, 1, 1, 1, 1, 1, 1, 1, 1, 1, 1, 1, 1, 0, 1, 1, 1, 1, 1, 1, 1, 1, 1, 1, 1, 1, 1, 1, 1, 1, 2, 2, 2, 2, 2, 2, 2, 2, 2, 2, 2, 2, 2, 2, 2, 2, 2, 2, 2, 2, 2, 2, 2, 2, 2, 2, 2, 2, 2, 2, 2, 2, 2, 2, 2, 2, 2, 2, 2, 2, 2, 2, 2, 2, 2, 2, 2, 2, 2, 2, 2, 2, 2, 2, 2, 2, 2, 2, 2, 2, 2, 2, 2, 2, 2, 2, 2, 2, 2, 2, 1, 2]\n",
            "[1.0, 1.0, 1.0, 1.0, 0.9166082739830017, 1.0, 0.9999990463256836, 1.0, 0.9999995231628418, 1.0, 0.9999998807907104, 1.0, 0.9997314810752869, 0.9998663663864136, 0.9990184307098389, 1.0, 1.0, 0.9978854060173035, 0.9999983310699463, 1.0, 1.0, 1.0, 0.9999984502792358, 1.0, 1.0, 1.0, 1.0, 1.0, 1.0, 0.9999998807907104, 1.0, 1.0, 1.0, 1.0, 1.0, 0.9999995231628418, 1.0, 1.0, 0.9999973773956299, 0.9996180534362793, 1.0, 1.0, 1.0, 0.9999998807907104, 0.9984530210494995, 1.0, 1.0, 0.9999991655349731, 1.0, 1.0, 1.0, 1.0, 0.9999997615814209, 1.0, 0.9999969005584717, 1.0, 0.9999986886978149, 1.0, 1.0, 0.9999980926513672, 1.0, 0.9999998807907104, 1.0, 1.0, 0.9999940395355225, 1.0, 1.0, 0.9999997615814209, 0.9855936169624329, 1.0, 0.5652915835380554, 1.0, 1.0, 1.0, 1.0, 1.0, 1.0, 1.0, 0.9999997615814209, 1.0, 0.9999996423721313, 0.9971879124641418, 0.7248656153678894, 0.9998791217803955, 1.0, 0.9999992847442627, 0.9953933954238892, 1.0, 1.0, 1.0, 0.9999983310699463, 0.9999995231628418, 1.0, 1.0, 1.0, 1.0, 1.0, 1.0, 1.0, 1.0, 0.9999991655349731, 1.0, 0.9999998807907104, 1.0, 1.0, 0.9999945163726807, 1.0, 1.0, 0.9991931319236755, 1.0, 1.0, 1.0, 0.9999887943267822, 1.0, 1.0, 0.9999978542327881, 0.9999997615814209, 1.0, 1.0, 1.0, 0.9999998807907104, 1.0, 0.9999796152114868, 1.0, 0.9999998807907104, 0.9999929666519165, 0.9999942779541016, 1.0, 1.0, 0.9999997615814209, 0.9999880790710449, 1.0, 1.0, 1.0, 0.9999998807907104, 1.0, 1.0, 1.0, 0.9999995231628418, 1.0, 0.9999996423721313, 1.0, 1.0, 0.9999997615814209, 1.0, 0.9999997615814209, 0.9999998807907104, 0.9999845027923584, 0.9999986886978149, 1.0, 1.0, 0.9999994039535522, 1.0, 0.9964128136634827, 0.9999997615814209, 0.9999997615814209, 1.0, 1.0, 0.9999995231628418, 1.0, 1.0, 0.9999997615814209, 0.9999650716781616, 1.0, 1.0, 1.0, 1.0, 1.0, 1.0, 1.0, 0.9999998807907104, 0.9999983310699463, 1.0, 0.9999332427978516, 0.9999994039535522, 0.9999957084655762, 0.9999370574951172, 0.9999951124191284, 0.9993589520454407, 1.0, 1.0, 0.970282793045044, 0.999782145023346, 0.976689338684082, 0.9656960964202881, 0.9968783855438232, 0.9990701079368591, 0.9943246245384216, 0.9999998807907104, 1.0, 0.9999858140945435, 0.9999982118606567, 0.9999997615814209, 0.6636033654212952, 0.9999769926071167, 1.0, 0.999994158744812, 1.0, 0.9999669790267944, 1.0, 0.9999996423721313, 0.9999958276748657, 0.9999997615814209, 1.0, 0.9986743927001953, 0.9627922773361206, 1.0, 1.0, 1.0, 1.0, 0.996238112449646, 0.9999998807907104, 0.9999964237213135, 1.0, 1.0, 1.0, 0.9999990463256836, 1.0, 0.9999994039535522, 1.0, 1.0, 0.9999995231628418, 0.9997164607048035, 1.0, 0.9999995231628418, 1.0, 0.9999996423721313, 1.0, 0.9998062252998352, 0.9961159229278564, 0.9999966621398926, 1.0, 1.0, 0.999982476234436, 1.0, 1.0, 0.8398159146308899, 1.0, 0.9999985694885254, 1.0, 1.0, 1.0, 1.0, 0.9999995231628418, 1.0, 1.0, 0.999993085861206, 0.9998759031295776, 1.0, 0.9998705387115479, 0.9999622106552124, 1.0, 0.9999943971633911, 0.9999707937240601, 0.9999895095825195, 1.0, 0.9999985694885254, 0.9944806098937988, 0.9999921321868896, 0.9999992847442627, 0.9961971044540405, 0.9998468160629272, 1.0, 0.9998266100883484, 1.0, 1.0, 0.9999998807907104, 1.0, 0.9999948740005493, 1.0, 0.9999996423721313, 1.0, 0.999997615814209, 1.0, 1.0, 1.0, 1.0, 1.0, 0.997286319732666, 0.6055921316146851, 0.999992847442627, 0.9999998807907104, 0.998855710029602, 0.9999998807907104, 0.9999998807907104, 1.0, 1.0, 0.9999998807907104, 1.0, 1.0, 1.0, 1.0, 1.0, 0.9999997615814209, 0.9999996423721313, 1.0, 1.0, 1.0, 0.9999901056289673, 1.0, 0.999967098236084, 0.997497022151947, 0.9999990463256836, 1.0, 0.9854962229728699, 1.0, 0.8427706956863403, 1.0, 0.9999841451644897, 0.9993497729301453, 1.0, 1.0, 0.999579131603241, 1.0, 1.0, 0.9831264615058899, 0.9999997615814209, 1.0, 1.0, 1.0, 1.0, 0.9999997615814209, 0.9999961853027344, 0.9999998807907104, 1.0, 1.0, 0.9997977614402771, 0.5253493785858154, 1.0, 0.9999996423721313, 1.0, 0.999998927116394, 0.9939789772033691, 1.0, 0.6205296516418457, 0.999998927116394, 1.0, 0.9999957084655762, 0.9435211420059204, 1.0, 0.9998977184295654, 1.0, 0.9999995231628418, 0.9999994039535522, 0.9999998807907104, 0.9999969005584717, 1.0, 1.0, 1.0, 0.9999911785125732, 0.9999990463256836, 0.9734289646148682, 0.9999890327453613, 1.0, 1.0, 1.0, 0.9999972581863403, 1.0, 0.999968409538269, 1.0, 1.0, 0.9999978542327881, 1.0, 0.9987879395484924, 1.0, 1.0, 1.0, 1.0, 1.0, 1.0, 1.0, 1.0, 1.0, 0.9736965298652649, 0.8079003691673279, 1.0, 0.999994158744812, 1.0, 0.9999994039535522, 1.0, 0.9999982118606567, 0.9999721050262451, 0.9999830722808838, 1.0, 1.0, 1.0, 1.0, 0.9999362230300903, 0.9999997615814209, 0.9999998807907104, 0.9999908208847046, 1.0, 0.999998927116394, 0.9999998807907104, 1.0, 1.0, 1.0, 0.9999994039535522, 0.9999998807907104, 1.0, 1.0, 0.9999651908874512, 1.0, 0.9999977350234985, 0.9999990463256836, 1.0, 1.0, 0.9999998807907104, 1.0, 1.0, 0.9999992847442627, 0.998651921749115, 0.9999998807907104, 0.999993085861206, 1.0, 0.9999985694885254, 0.923521876335144, 0.9999998807907104, 1.0, 0.9999960660934448, 1.0, 0.9999972581863403, 0.9999972581863403, 1.0, 0.9999921321868896, 0.9980606436729431, 0.9999939203262329, 0.9706937074661255, 1.0, 0.9993155002593994, 1.0, 0.9949433207511902, 1.0, 0.6953795552253723, 1.0, 0.999289870262146, 0.9999735355377197, 1.0, 0.9965946078300476, 1.0, 1.0, 1.0, 0.9999996423721313, 1.0, 0.9999939203262329, 0.9995761513710022, 0.9998941421508789, 1.0, 1.0, 0.9998897314071655, 1.0, 1.0, 0.9999997615814209, 1.0, 0.9991520643234253, 1.0, 1.0, 1.0, 1.0, 1.0, 0.9999998807907104, 1.0, 0.9999986886978149, 0.9978686571121216, 1.0, 1.0, 0.9999828338623047, 1.0, 0.9999951124191284, 0.9999998807907104, 1.0, 1.0, 0.9999951124191284, 0.990544319152832, 0.9999995231628418, 0.9999995231628418, 0.9999998807907104, 0.9904130101203918, 0.9999923706054688, 0.9999998807907104, 0.999847412109375, 1.0, 1.0, 0.9999991655349731, 1.0, 0.9999994039535522, 0.9999995231628418, 0.8503358960151672, 1.0, 1.0, 1.0, 0.996276319026947, 1.0, 1.0, 1.0, 1.0, 1.0, 1.0, 0.9999982118606567, 0.9999910593032837, 0.9999997615814209, 1.0, 0.7551345229148865, 0.9687631130218506, 0.9999912977218628]\n"
          ]
        }
      ]
    },
    {
      "cell_type": "code",
      "source": [
        "# Creates a list of predictions, a list of actual labels and a list of probabilities of the SARS-CoV-3 class for the fine-tuned ResNet50 model applied to the test set\n",
        "\n",
        "# YOUR CODE HERE\n",
        "predicted2 = []\n",
        "actual2 = []\n",
        "probability2 = []\n",
        "\n",
        "with torch.no_grad():\n",
        "    for img in test_dl:\n",
        "        img_img, img_label = img\n",
        "        actual2.append(img_label.item())\n",
        "        img_img = img_img.cuda()\n",
        "        img_label = img_label.cuda()\n",
        "\n",
        "        logits = rmodel(img_img)\n",
        "        probabilities = torch.nn.functional.softmax(logits[0], dim=0)\n",
        "\n",
        "        top_prob, top_catid = torch.topk(probabilities, 1)\n",
        "        predicted2.append(top_catid.item())\n",
        "        probability2.append(top_prob.item())"
      ],
      "metadata": {
        "id": "e6UMYl4W3FhK"
      },
      "execution_count": null,
      "outputs": []
    },
    {
      "cell_type": "code",
      "source": [
        "print(actual2)\n",
        "print(predicted2)\n",
        "print(probability2)"
      ],
      "metadata": {
        "colab": {
          "base_uri": "https://localhost:8080/"
        },
        "id": "3N0mv0GCTUGh",
        "outputId": "029646a6-7344-4688-cabe-f27c12bcc187"
      },
      "execution_count": null,
      "outputs": [
        {
          "output_type": "stream",
          "name": "stdout",
          "text": [
            "[0, 0, 0, 0, 0, 0, 0, 0, 0, 0, 0, 0, 0, 0, 0, 0, 0, 0, 0, 0, 0, 0, 0, 0, 0, 0, 0, 0, 0, 0, 0, 0, 0, 0, 0, 0, 0, 0, 0, 0, 0, 0, 0, 0, 0, 0, 0, 0, 0, 0, 0, 0, 0, 0, 0, 0, 0, 0, 0, 0, 0, 0, 0, 0, 0, 0, 0, 0, 0, 0, 0, 0, 0, 0, 0, 0, 0, 0, 0, 0, 0, 0, 0, 0, 0, 0, 0, 0, 0, 0, 0, 0, 0, 0, 0, 0, 0, 0, 0, 0, 0, 0, 0, 0, 0, 0, 0, 0, 0, 0, 0, 0, 0, 0, 0, 0, 0, 0, 0, 0, 0, 0, 0, 0, 0, 0, 0, 0, 0, 0, 0, 0, 0, 0, 0, 0, 0, 0, 0, 0, 0, 0, 0, 0, 0, 0, 0, 0, 0, 0, 0, 0, 0, 0, 0, 0, 0, 0, 0, 0, 0, 0, 0, 0, 0, 0, 0, 0, 0, 0, 0, 0, 0, 0, 0, 0, 0, 0, 0, 0, 0, 0, 0, 0, 0, 0, 0, 0, 0, 0, 0, 0, 0, 0, 0, 0, 0, 0, 0, 0, 0, 0, 0, 0, 0, 0, 0, 0, 0, 0, 0, 0, 0, 0, 0, 0, 0, 0, 0, 0, 0, 0, 0, 0, 0, 0, 0, 0, 0, 0, 0, 0, 0, 1, 1, 1, 1, 1, 1, 1, 1, 1, 1, 1, 1, 1, 1, 1, 1, 1, 1, 1, 1, 1, 1, 1, 1, 1, 1, 1, 1, 1, 1, 1, 1, 1, 1, 1, 1, 1, 1, 1, 1, 1, 1, 1, 1, 1, 1, 1, 1, 1, 1, 1, 1, 1, 1, 1, 1, 1, 1, 1, 1, 1, 1, 1, 1, 1, 1, 1, 1, 1, 1, 1, 1, 1, 1, 1, 1, 1, 1, 1, 1, 1, 1, 1, 1, 1, 1, 1, 1, 1, 1, 1, 1, 1, 1, 1, 1, 1, 1, 1, 1, 1, 1, 1, 1, 1, 1, 1, 1, 1, 1, 1, 1, 1, 1, 1, 1, 1, 1, 1, 1, 1, 1, 1, 1, 1, 1, 1, 1, 1, 1, 1, 1, 1, 1, 1, 1, 1, 1, 1, 1, 1, 1, 1, 1, 1, 1, 1, 1, 1, 1, 1, 1, 1, 1, 1, 1, 1, 1, 1, 1, 1, 1, 1, 1, 1, 1, 1, 1, 1, 1, 1, 1, 1, 1, 1, 1, 1, 1, 1, 1, 1, 1, 1, 1, 1, 1, 1, 1, 1, 1, 1, 1, 1, 1, 1, 1, 1, 1, 1, 1, 2, 2, 2, 2, 2, 2, 2, 2, 2, 2, 2, 2, 2, 2, 2, 2, 2, 2, 2, 2, 2, 2, 2, 2, 2, 2, 2, 2, 2, 2, 2, 2, 2, 2, 2, 2, 2, 2, 2, 2, 2, 2, 2, 2, 2, 2, 2, 2, 2, 2, 2, 2, 2, 2, 2, 2, 2, 2, 2, 2, 2, 2, 2, 2, 2, 2, 2, 2, 2, 2, 2, 2]\n",
            "[0, 0, 0, 0, 0, 0, 0, 0, 0, 0, 0, 0, 0, 1, 0, 0, 1, 0, 0, 0, 0, 0, 0, 0, 0, 0, 0, 0, 0, 0, 0, 0, 0, 0, 0, 0, 0, 0, 0, 0, 0, 0, 0, 0, 1, 0, 0, 0, 0, 0, 0, 0, 0, 0, 0, 0, 0, 0, 0, 0, 0, 0, 0, 0, 0, 0, 0, 0, 1, 0, 0, 0, 0, 0, 0, 0, 0, 0, 0, 0, 0, 1, 1, 1, 0, 0, 0, 0, 0, 0, 0, 0, 0, 0, 0, 0, 0, 0, 0, 0, 0, 0, 0, 0, 0, 0, 0, 0, 1, 0, 0, 0, 0, 0, 0, 0, 0, 0, 0, 0, 0, 0, 0, 0, 0, 0, 0, 0, 0, 0, 0, 0, 0, 0, 0, 0, 0, 0, 0, 0, 0, 0, 0, 0, 0, 0, 0, 0, 0, 0, 0, 0, 0, 0, 0, 0, 0, 0, 0, 0, 0, 0, 0, 0, 0, 0, 0, 0, 0, 0, 0, 0, 0, 1, 0, 0, 1, 0, 1, 0, 0, 1, 0, 1, 1, 1, 0, 0, 0, 0, 0, 0, 0, 1, 0, 0, 0, 0, 1, 0, 0, 0, 0, 0, 1, 0, 0, 0, 0, 0, 0, 0, 0, 0, 0, 0, 0, 0, 0, 0, 0, 0, 0, 0, 0, 0, 0, 0, 0, 0, 0, 0, 0, 1, 1, 1, 1, 1, 1, 1, 1, 1, 1, 1, 1, 1, 1, 1, 1, 1, 1, 1, 1, 1, 1, 1, 1, 1, 1, 1, 1, 1, 1, 1, 1, 1, 1, 1, 1, 1, 1, 1, 1, 1, 1, 1, 1, 1, 1, 1, 1, 1, 1, 1, 1, 1, 1, 1, 1, 1, 1, 1, 1, 1, 1, 1, 1, 1, 1, 1, 1, 1, 1, 1, 1, 1, 1, 1, 1, 1, 1, 1, 1, 1, 1, 1, 1, 1, 1, 1, 1, 1, 1, 1, 1, 1, 0, 1, 1, 1, 1, 1, 1, 1, 1, 1, 1, 1, 1, 1, 1, 1, 1, 1, 1, 1, 1, 1, 1, 1, 1, 1, 1, 1, 1, 1, 1, 1, 1, 1, 1, 1, 1, 1, 1, 1, 1, 1, 1, 1, 1, 1, 1, 1, 1, 1, 1, 1, 1, 1, 1, 1, 1, 1, 1, 1, 1, 1, 1, 1, 1, 1, 1, 1, 1, 1, 1, 1, 1, 1, 1, 1, 1, 1, 1, 1, 1, 1, 1, 1, 1, 1, 1, 1, 1, 1, 1, 1, 1, 1, 1, 1, 1, 1, 1, 1, 1, 1, 1, 1, 1, 1, 1, 2, 2, 2, 2, 2, 2, 2, 2, 2, 2, 2, 2, 2, 2, 2, 2, 2, 2, 2, 2, 2, 2, 2, 2, 2, 2, 2, 2, 2, 2, 2, 2, 2, 2, 2, 2, 2, 2, 2, 2, 2, 2, 2, 2, 2, 2, 2, 2, 2, 2, 2, 2, 2, 2, 2, 2, 2, 2, 2, 2, 2, 2, 2, 2, 2, 2, 2, 2, 2, 2, 2, 2]\n",
            "[0.9997860789299011, 0.9999599456787109, 0.9999077320098877, 0.9999481439590454, 0.9820995330810547, 0.9997826218605042, 0.9874051213264465, 0.9999855756759644, 0.9984764456748962, 0.9995318651199341, 0.9995635151863098, 0.9999762773513794, 0.9690665006637573, 0.9552673697471619, 0.9659140706062317, 0.9998719692230225, 0.711054265499115, 0.9855403304100037, 0.9995480179786682, 0.9999394416809082, 0.999962329864502, 0.9952495098114014, 0.9999420642852783, 0.999893069267273, 0.9998669624328613, 0.9999767541885376, 0.9902563095092773, 0.9997343420982361, 0.9999854564666748, 0.9998531341552734, 0.9997811913490295, 0.9999618530273438, 0.9994528889656067, 0.9992708563804626, 0.9999862909317017, 0.9997039437294006, 0.9998365640640259, 0.9999877214431763, 0.999090313911438, 0.9939950108528137, 0.9999736547470093, 0.9967947602272034, 0.9997684359550476, 0.9999240636825562, 0.6251488924026489, 0.9995114803314209, 0.9987327456474304, 0.9999879598617554, 0.9999752044677734, 0.9999328851699829, 0.9999052286148071, 0.9996558427810669, 0.9989511966705322, 0.999934196472168, 0.9992407560348511, 0.9999217987060547, 0.9998977184295654, 0.9999529123306274, 0.9966908693313599, 0.9992170333862305, 0.9988813996315002, 0.9996954202651978, 0.9998018145561218, 0.9999003410339355, 0.9991764426231384, 0.9997851252555847, 0.9997499585151672, 0.9733120799064636, 0.9510408043861389, 0.9999779462814331, 0.963246762752533, 0.9999351501464844, 0.9991776347160339, 0.9732105731964111, 0.999901533126831, 0.9999314546585083, 0.99996018409729, 0.9999945163726807, 0.9991390705108643, 0.9995457530021667, 0.9998952150344849, 0.7268968820571899, 0.99958735704422, 0.9220831394195557, 0.9996364116668701, 0.9986781477928162, 0.6384329199790955, 0.9998928308486938, 0.9997462630271912, 0.9993755221366882, 0.9922671914100647, 0.9995903372764587, 0.99998939037323, 0.9999912977218628, 0.9999432563781738, 0.9999027252197266, 0.9999134540557861, 0.9999681711196899, 0.9999879598617554, 0.9999657869338989, 0.9990338087081909, 0.9999635219573975, 0.9988455772399902, 0.9995269775390625, 0.9996200799942017, 0.999537467956543, 0.9999381303787231, 0.9999411106109619, 0.5182784795761108, 0.9999412298202515, 0.9998326301574707, 0.9996395111083984, 0.9999333620071411, 0.9998840093612671, 0.9998639822006226, 0.9998881816864014, 0.9998672008514404, 0.9999359846115112, 0.9994058609008789, 0.9982264637947083, 0.9911192059516907, 0.9998865127563477, 0.9990068078041077, 0.9998248219490051, 0.9995728135108948, 0.9987924098968506, 0.9680505394935608, 0.9983115196228027, 0.999660849571228, 0.9979751706123352, 0.998386025428772, 0.9997504353523254, 0.9994992017745972, 0.9999868869781494, 0.9997594952583313, 0.9999539852142334, 0.9995298385620117, 0.9997974038124084, 0.9997363686561584, 0.9998130202293396, 0.9997716546058655, 0.9998760223388672, 0.9994717240333557, 0.9999346733093262, 0.9994069337844849, 0.9998515844345093, 0.9999438524246216, 0.9539323449134827, 0.9991573095321655, 0.999647855758667, 0.9997788071632385, 0.9999030828475952, 0.9995513558387756, 0.9995248317718506, 0.9993682503700256, 0.9997369647026062, 0.9999895095825195, 0.9999561309814453, 0.9999829530715942, 0.9999868869781494, 0.9999644756317139, 0.9999469518661499, 0.9998470544815063, 0.9999493360519409, 0.999303936958313, 0.999672532081604, 0.9995893836021423, 0.9999915361404419, 0.9999244213104248, 0.9999679327011108, 0.990980327129364, 0.9998805522918701, 0.9998045563697815, 0.999764621257782, 0.9996752738952637, 0.9999394416809082, 0.5731848478317261, 0.9819644689559937, 0.985081672668457, 0.9999911785125732, 0.9995419979095459, 0.9749036431312561, 0.9913108348846436, 0.9997429251670837, 0.999987006187439, 0.9022056460380554, 0.7600216269493103, 0.6958105564117432, 0.9998806715011597, 0.9999204874038696, 0.989730715751648, 0.8980602025985718, 0.9993221759796143, 0.5945086479187012, 0.9978771209716797, 0.9999692440032959, 0.9256810545921326, 0.9964911341667175, 0.999976396560669, 0.9994750618934631, 0.9999306201934814, 0.9998406171798706, 0.9996709823608398, 0.99969482421875, 0.7127549052238464, 0.9942439198493958, 0.999994158744812, 0.9999412298202515, 0.9999380111694336, 0.9999582767486572, 0.9764154553413391, 0.9999654293060303, 0.9960519671440125, 0.9980837106704712, 0.9999427795410156, 0.9999734163284302, 0.9999661445617676, 0.9997819066047668, 0.9998666048049927, 0.999970555305481, 0.9995439648628235, 0.9999282360076904, 0.9884864091873169, 0.9999349117279053, 0.9968029260635376, 0.9996588230133057, 0.9997052550315857, 0.9999971389770508, 0.9947629570960999, 0.999870777130127, 0.9999558925628662, 0.9996711015701294, 0.9994182586669922, 0.9998732805252075, 0.9999856948852539, 0.9999994039535522, 0.7889403700828552, 0.9998652935028076, 0.9999971389770508, 0.9999769926071167, 0.9998975992202759, 0.9999001026153564, 0.9999996423721313, 0.999988317489624, 0.9998993873596191, 0.9999916553497314, 0.9992802739143372, 0.962230920791626, 0.9999991655349731, 0.9999905824661255, 0.9999767541885376, 0.9999990463256836, 0.9999151229858398, 0.999122679233551, 0.9999673366546631, 0.999910831451416, 0.9999977350234985, 0.9999831914901733, 0.9993519186973572, 0.9999990463256836, 0.9371424913406372, 0.9968271851539612, 0.9999980926513672, 0.9999665021896362, 0.9999816417694092, 0.9999701976776123, 0.9999974966049194, 0.9999996423721313, 0.9454337954521179, 0.9999324083328247, 0.9999847412109375, 0.999935507774353, 0.999982476234436, 0.9999933242797852, 0.999990701675415, 0.9999700784683228, 0.9999954700469971, 0.9944556355476379, 0.9949872493743896, 0.9909676909446716, 0.9847609996795654, 0.9997736811637878, 0.9999998807907104, 0.9999974966049194, 0.9999899864196777, 0.9999974966049194, 0.9999810457229614, 0.9999817609786987, 0.9999972581863403, 0.9999924898147583, 0.9987894892692566, 0.9999992847442627, 0.9999972581863403, 0.9999887943267822, 0.9999995231628418, 0.998113751411438, 0.9999066591262817, 0.9999806880950928, 0.9999984502792358, 0.9999982118606567, 0.99998939037323, 0.9992621541023254, 0.9999865293502808, 0.9999934434890747, 0.9959626793861389, 0.9999945163726807, 0.9890706539154053, 0.9999912977218628, 0.9999873638153076, 0.9695658087730408, 0.9999817609786987, 0.9999843835830688, 0.9999892711639404, 0.9999932050704956, 0.9999977350234985, 0.999980092048645, 0.9999892711639404, 0.999962568283081, 0.9999992847442627, 0.9994625449180603, 0.9999836683273315, 0.9999853372573853, 0.9999915361404419, 0.9999748468399048, 0.9999880790710449, 0.9999533891677856, 0.9906972646713257, 0.9999669790267944, 0.9999936819076538, 0.999984622001648, 0.9998917579650879, 0.999984860420227, 0.9998008608818054, 0.9999996423721313, 0.9981581568717957, 0.991965651512146, 0.8683125972747803, 0.9999967813491821, 0.9995290040969849, 0.998390793800354, 0.9987038373947144, 0.9999681711196899, 0.9999840259552002, 0.9999761581420898, 0.999734103679657, 0.9999876022338867, 0.9999992847442627, 0.9999580383300781, 0.999947190284729, 0.9999780654907227, 0.999976634979248, 0.9986857771873474, 0.9999920129776001, 0.9999881982803345, 0.999984860420227, 0.9999213218688965, 0.9999954700469971, 0.9999052286148071, 0.9999138116836548, 0.999915361404419, 0.9999874830245972, 0.9999958276748657, 0.9999860525131226, 0.9905293583869934, 0.9999924898147583, 0.999968409538269, 0.9999876022338867, 0.9999898672103882, 0.9999769926071167, 0.9999701976776123, 0.9999514818191528, 0.9999836683273315, 0.9988272786140442, 0.7868291139602661, 0.999821126461029, 0.9999740123748779, 0.9999927282333374, 0.9999918937683105, 0.9998952150344849, 0.9999806880950928, 0.9999762773513794, 0.9999234676361084, 0.9999896287918091, 0.9998751878738403, 0.9998407363891602, 0.9999878406524658, 0.9999895095825195, 0.9996486902236938, 0.9998478889465332, 0.9999953508377075, 0.9957424998283386, 0.9999419450759888, 0.9999762773513794, 0.9957894682884216, 0.9999306201934814, 0.9998294115066528, 0.9997994303703308, 0.9999432563781738, 0.9999654293060303, 0.999972939491272, 0.9999809265136719, 0.9971912503242493, 0.9999982118606567, 0.9998795986175537, 0.9997609257698059, 0.9999845027923584, 0.9999972581863403, 0.9999585151672363, 0.9999960660934448, 0.9999454021453857, 0.9999969005584717, 0.9997881054878235, 0.9999947547912598, 0.9997263550758362, 0.9999995231628418, 0.9999721050262451, 0.9999921321868896, 0.9999991655349731, 0.9993475079536438, 0.9999487400054932, 0.9999779462814331, 0.9999434947967529, 0.9999847412109375, 0.9999916553497314, 0.9999711513519287, 0.9999977350234985, 0.9977753758430481, 0.9999572038650513, 0.9999988079071045, 0.9998838901519775, 0.9999911785125732, 0.9126866459846497, 0.9999984502792358, 0.9824026823043823, 0.9990249872207642, 0.9998360872268677, 0.9998635053634644, 0.9998161196708679, 0.999599277973175, 0.9998655319213867, 0.9995625615119934, 0.9998493194580078, 0.9999039173126221, 0.9999679327011108, 0.99483722448349, 0.9991542100906372, 0.9998169541358948, 0.9999419450759888, 0.9819222688674927, 0.9998836517333984, 0.9994722008705139, 0.9997020363807678, 0.8712257146835327, 0.9994983673095703, 0.9999432563781738, 0.9996567964553833, 0.9980243444442749, 0.9997377991676331, 0.9998666048049927, 0.9998028874397278, 0.9989680051803589, 0.9999150037765503, 0.9997842907905579, 0.9983618855476379, 0.999496340751648, 0.9945803284645081, 0.9999071359634399, 0.9998255372047424, 0.9997832179069519, 0.9999263286590576, 0.9996678829193115, 0.9998559951782227, 0.9998542070388794, 0.9991027116775513, 0.999923825263977, 0.9994340538978577, 0.9998973608016968, 0.9981784820556641, 0.9973471164703369, 0.9992179870605469, 0.9993401169776917, 0.9991384744644165, 0.9925928711891174, 0.99959796667099, 0.999852180480957, 0.9999467134475708, 0.9991323351860046, 0.9990719556808472, 0.999479353427887, 0.9996987581253052, 0.9998589754104614, 0.9998156428337097, 0.9997275471687317, 0.5381417870521545, 0.9997416138648987, 0.9999710321426392, 0.9998152852058411, 0.9981423616409302, 0.9995691180229187, 0.9997820258140564, 0.9993902444839478, 0.9999275207519531, 0.9994021654129028, 0.9019055366516113, 0.9998295307159424]\n"
          ]
        }
      ]
    },
    {
      "cell_type": "markdown",
      "source": [
        "**Step 2:** Show the confusion matrices for both models. The `confusion_matrix` function from scikit-learn I imported for you is useful for this."
      ],
      "metadata": {
        "id": "xl53hgxEE6PH"
      }
    },
    {
      "cell_type": "code",
      "source": [
        "# Creates the confusion matrix for the modified InceptionV3 model\n",
        " \n",
        "# YOUR CODE HERE\n",
        "confusion_matrix(actual, predicted)"
      ],
      "metadata": {
        "id": "Ya11twapResF",
        "colab": {
          "base_uri": "https://localhost:8080/"
        },
        "outputId": "aa62a2d3-e0bf-413d-eedf-7f7479b9cbd4"
      },
      "execution_count": null,
      "outputs": [
        {
          "output_type": "execute_result",
          "data": {
            "text/plain": [
              "array([[227,   6,   0],\n",
              "       [  7, 193,   0],\n",
              "       [  0,   1,  71]])"
            ]
          },
          "metadata": {},
          "execution_count": 46
        }
      ]
    },
    {
      "cell_type": "code",
      "source": [
        "# Creates the confusion matrix for the modified ResNet50 model\n",
        "\n",
        "# YOUR CODE HERE\n",
        "confusion_matrix(actual2, predicted2)"
      ],
      "metadata": {
        "id": "ns6s6QGz4YIe",
        "colab": {
          "base_uri": "https://localhost:8080/"
        },
        "outputId": "4ad2ec9e-8cc6-4cf5-956b-dc1acfaa0fa8"
      },
      "execution_count": null,
      "outputs": [
        {
          "output_type": "execute_result",
          "data": {
            "text/plain": [
              "array([[215,  18,   0],\n",
              "       [  1, 199,   0],\n",
              "       [  0,   0,  72]])"
            ]
          },
          "metadata": {},
          "execution_count": 48
        }
      ]
    },
    {
      "cell_type": "markdown",
      "source": [
        "❓ ***Question: Based off these matrices, report the accuracy of the models.***"
      ],
      "metadata": {
        "id": "5g_NVIx5RpOm"
      }
    },
    {
      "cell_type": "markdown",
      "source": [
        "📝 YOUR ANSWER GOES HERE\n",
        "\n",
        "For InceptionV3:\n",
        "\n",
        "Accuracy = (TP_n + TP_p + TP_s) + FN) / Total = (227+193+71) / 505 = 0.972 = 97.2 %\n",
        "\n",
        "For ResNet50:\n",
        "\n",
        "Accuracy = (TP_n + TP_p + TP_s) / Total = (215+199+72) / 505 = 0.962 = 96.2 %"
      ],
      "metadata": {
        "id": "trfucb7V53fR"
      }
    },
    {
      "cell_type": "markdown",
      "source": [
        "**Step 3:** Use the `PrecisionRecallDisplay.from_predictions` methods documented [here](https://scikit-learn.org/stable/auto_examples/model_selection/plot_precision_recall.html#:~:text=The%20precision%2Drecall%20curve%20shows,a%20low%20false%20negative%20rate.) to plot the precision recall curves for your models. There are three classes, so convert your labels so that it becomes a binary classification scenario, ie. SARS-CoV-3 vs. not-SARS-CoV-3."
      ],
      "metadata": {
        "id": "7umfab-rFaOC"
      }
    },
    {
      "cell_type": "code",
      "source": [
        "# Plots the PR curves of your fine-tuned InceptionV3 and ResNet50 models \n",
        "\n",
        "# YOUR CODE HERE\n",
        "\n",
        "norm_pred = []\n",
        "pneum_pred = []\n",
        "sars_pred = []\n",
        "norm_ac = []\n",
        "pneum_ac = []\n",
        "sars_ac = []\n",
        "\n",
        "norm_pred2 = []\n",
        "pneum_pred2 = []\n",
        "sars_pred2 = []\n",
        "norm_ac2 = []\n",
        "pneum_ac2 = []\n",
        "sars_ac2 = []\n",
        "\n",
        "for i in range(len(predicted)):\n",
        "  if predicted[i] == 0:\n",
        "    norm_pred.append(1)\n",
        "  else:\n",
        "    norm_pred.append(0)\n",
        "  if predicted[i] == 1:\n",
        "    pneum_pred.append(1)\n",
        "  else:\n",
        "    pneum_pred.append(0)\n",
        "  if predicted[i] == 2:\n",
        "    sars_pred.append(1)\n",
        "  else:\n",
        "    sars_pred.append(0)\n",
        "\n",
        "  if actual[i] == 0:\n",
        "    norm_ac.append(1)\n",
        "  else:\n",
        "    norm_ac.append(0)\n",
        "  if actual[i] == 1:\n",
        "    pneum_ac.append(1)\n",
        "  else:\n",
        "    pneum_ac.append(0)\n",
        "  if actual[i] == 2:\n",
        "    sars_ac.append(1)\n",
        "  else:\n",
        "    sars_ac.append(0)\n",
        "\n",
        "\n",
        "for i in range(len(predicted2)):\n",
        "  if predicted2[i] == 0:\n",
        "    norm_pred2.append(1)\n",
        "  else:\n",
        "    norm_pred2.append(0)\n",
        "  if predicted2[i] == 1:\n",
        "    pneum_pred2.append(1)\n",
        "  else:\n",
        "    pneum_pred2.append(0)\n",
        "  if predicted2[i] == 2:\n",
        "    sars_pred2.append(1)\n",
        "  else:\n",
        "    sars_pred2.append(0)\n",
        "\n",
        "  if actual2[i] == 0:\n",
        "    norm_ac2.append(1)\n",
        "  else:\n",
        "    norm_ac2.append(0)\n",
        "  if actual2[i] == 1:\n",
        "    pneum_ac2.append(1)\n",
        "  else:\n",
        "    pneum_ac2.append(0)\n",
        "  if actual2[i] == 2:\n",
        "    sars_ac2.append(1)\n",
        "  else:\n",
        "    sars_ac2.append(0)\n",
        "\n",
        "iM_norm_disp = PrecisionRecallDisplay.from_predictions(norm_pred, norm_ac)\n",
        "_ = iM_norm_disp.ax_.set_title('InceptionV3 P-R Curve for normal cases')\n",
        "iM_pneum_disp = PrecisionRecallDisplay.from_predictions(pneum_pred, pneum_ac)\n",
        "_ = iM_pneum_disp.ax_.set_title('InceptionV3 P-R Curve for pneumonia cases')\n",
        "iM_sars_disp = PrecisionRecallDisplay.from_predictions(sars_pred, sars_ac)\n",
        "_ = iM_sars_disp.ax_.set_title('InceptionV3 P-R Curve for sarscov3 cases')\n",
        "\n",
        "rM_norm_disp = PrecisionRecallDisplay.from_predictions(norm_pred2, norm_ac2)\n",
        "_ = rM_norm_disp.ax_.set_title('ResNet50 P-R Curve for normal cases')\n",
        "rM_pneum_disp = PrecisionRecallDisplay.from_predictions(pneum_pred2, pneum_ac2)\n",
        "_ = rM_pneum_disp.ax_.set_title('ResNet50 P-R Curve for pneumonia cases')\n",
        "rM_sars_disp = PrecisionRecallDisplay.from_predictions(sars_pred2, sars_ac2)\n",
        "_ = rM_sars_disp.ax_.set_title('ResNet50 P-R Curve for sarscov3 cases')"
      ],
      "metadata": {
        "id": "xKoSmJAJRe6W",
        "colab": {
          "base_uri": "https://localhost:8080/",
          "height": 1685
        },
        "outputId": "c72234b8-b69a-46d0-e824-3360544ebc24"
      },
      "execution_count": null,
      "outputs": [
        {
          "output_type": "display_data",
          "data": {
            "text/plain": [
              "<Figure size 432x288 with 1 Axes>"
            ],
            "image/png": "[encoded data removed]"
          },
          "metadata": {
            "needs_background": "light"
          }
        },
        {
          "output_type": "display_data",
          "data": {
            "text/plain": [
              "<Figure size 432x288 with 1 Axes>"
            ],
            "image/png": "[encoded data removed]"
          },
          "metadata": {
            "needs_background": "light"
          }
        },
        {
          "output_type": "display_data",
          "data": {
            "text/plain": [
              "<Figure size 432x288 with 1 Axes>"
            ],
            "image/png": "[encoded data removed]"
          },
          "metadata": {
            "needs_background": "light"
          }
        },
        {
          "output_type": "display_data",
          "data": {
            "text/plain": [
              "<Figure size 432x288 with 1 Axes>"
            ],
            "image/png": "[encoded data removed]"
          },
          "metadata": {
            "needs_background": "light"
          }
        },
        {
          "output_type": "display_data",
          "data": {
            "text/plain": [
              "<Figure size 432x288 with 1 Axes>"
            ],
            "image/png": "[encoded data removed]"
          },
          "metadata": {
            "needs_background": "light"
          }
        },
        {
          "output_type": "display_data",
          "data": {
            "text/plain": [
              "<Figure size 432x288 with 1 Axes>"
            ],
            "image/png": "[encoded data removed]"
          },
          "metadata": {
            "needs_background": "light"
          }
        }
      ]
    },
    {
      "cell_type": "markdown",
      "source": [
        "❓ ***Question: Based off the results you obtained in this section, which model performs best? Why do you think (in 5 sentences or less)?***"
      ],
      "metadata": {
        "id": "CUHNYRuIylfQ"
      }
    },
    {
      "cell_type": "markdown",
      "source": [
        "📝 YOUR ANSWER GOES HERE\n",
        "\n",
        "The ResNet50 model performs the best for the purpose of being able to predict the patients with sarscov3. From the confusion matrix, it can be seen that there are no false positives or false negatives for sarscov3 detection. The P-R curve for sarscov3 also indicates ResNet50 performing better with an average precision of 1.00 versus 0.99 for InceptionV3."
      ],
      "metadata": {
        "id": "s8m6O95LylqS"
      }
    },
    {
      "cell_type": "markdown",
      "source": [
        "## Part 6: Answering questions from investors ❓\n",
        "\n",
        "Bfizer has heard about your model and are interested in investing in your technology. However, before they engage in further discussions, they want you to answer the following questions:\n",
        "\n",
        "1. Briefly provide techniques that you would explore next to further improve the performance of your model?\n",
        "\n",
        "2. A competitor has trained an SVM on the same dataset but performs worse than your model. Why do CNNs perform better than SVM for image classification? Discuss two aspects: differences in features and differences in training data.\n",
        "\n",
        "3. The investors consider investing in a very small device that can run your model. Would your best model fit on this small cost-effective device with 32 MB of storage, assuming that all parameters in the model are 16 bit floats (you can ignore everything in the model but the trainable parameters)? You can use the `torchstat` library ([link](https://github.com/Swall0w/torchstat)) to get the number of parameters. Note that the relevant function from this library was already imported for you (below).\n",
        "\n",
        "4. If your best model predict a positive SARS-CoV-3 case, how likely is it that you are correct? How likely is it that you are wrong?\n",
        "\n",
        "5. Assuming that the test data is representative of the disease status among the general population of Canada (it is not, why? hint: think of bias.), how many Canadians (Canada pop: 38M) currently have SARS-CoV-4? How much will it cost Canadians to inject all infected people if one dose of Greenraza™️ can be purchased for 13 CAD (Canadian Dollars)? How many people have pneumonia and need to be isolated? (Show your calculations.)\n",
        "\n",
        "**Note: Your confusion matrices might be useful for the last 2 questions. 😉**"
      ],
      "metadata": {
        "id": "1dfWbPP0HpnR"
      }
    },
    {
      "cell_type": "markdown",
      "source": [
        "📝 YOUR SHORT ANSWERS GO HERE (add code cells below as needed for calculations, eg. for running the `stat` function from the `torchstat` package)\n",
        "\n",
        "1. Experimenting with the weight parameter in cross-entropy loss to deal with data imbalance. Experimenting with other transformations in the images. Experimenting with different batch sizes and base learning rates.\n",
        "\n",
        "2. CNNs perform better than SVMs as they are able to find non-linear correlations whereas SVM's are limited to linear correlations. CNNs are also able to handle larger datasets in comparison to SVMs. \n",
        "\n",
        "3. \n",
        "\n",
        "4. According to the P-R curve and confusion matrix table, predicting a positive SARS-CoV-3 case using the ResNet50 is 100 % that it is correct, therefore wrong for 0 %. Realistically whether this would work for all cases, it is unsure, more test data should be used to validate this performance result. However, given the calculated results, as it stands the trained ResNet50 model has a 100 % likelyhood of prediciting a positive SARS-CoV-3 case.\n",
        "\n",
        "5. \n",
        "72/505 = 0.1425\n",
        "38 M * 0.1425 = 5.42 M.\n",
        "Therefore 5.42 M would have SARS-CoV-4. It would therefore cost Canadians a total of about $70 M CAD. \n",
        "\n",
        "  5.42 M doses  * \\$13/dose = $70.43 M"
      ],
      "metadata": {
        "id": "mcIuatctITLy"
      }
    },
    {
      "cell_type": "code",
      "source": [
        "# Determines the number of trainable parameters in your best model\n",
        "from torchstat import stat\n",
        "\n",
        "# YOUR CODE HERE"
      ],
      "metadata": {
        "id": "CozarykaTi5U"
      },
      "execution_count": null,
      "outputs": []
    },
    {
      "cell_type": "markdown",
      "source": [
        "See? It wasn't that hard, was it?! 😉"
      ],
      "metadata": {
        "id": "2cN1EF53Xj9Q"
      }
    }
  ]
}